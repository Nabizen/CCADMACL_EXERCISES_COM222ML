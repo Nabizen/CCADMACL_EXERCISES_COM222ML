{
 "cells": [
  {
   "cell_type": "markdown",
   "metadata": {
    "colab_type": "text",
    "id": "view-in-github"
   },
   "source": [
    "<a href=\"https://colab.research.google.com/github/robitussin/CCADMACL_EXERCISES/blob/main/Exercise1.ipynb\" target=\"_parent\"><img src=\"https://colab.research.google.com/assets/colab-badge.svg\" alt=\"Open In Colab\"/></a>"
   ]
  },
  {
   "cell_type": "markdown",
   "metadata": {
    "id": "wyguhJBCREPq"
   },
   "source": [
    "# Exercise 1\n",
    "\n",
    "Use all feature selection methods to find the best features"
   ]
  },
  {
   "cell_type": "markdown",
   "metadata": {
    "id": "W1nEzxdXQbpH"
   },
   "source": [
    "## Dataset Information\n",
    "\n",
    "## Features\n",
    "\n",
    "Number of Instances: 20640\n",
    "\n",
    "Number of Attributes: 8 numeric, predictive attributes and the target\n",
    "\n",
    "Attribute Information:\n",
    "\n",
    "MedInc - median income in block group\n",
    "\n",
    "HouseAge - median house age in block group\n",
    "\n",
    "AveRooms - average number of rooms per household\n",
    "\n",
    "AveBedrms - average number of bedrooms per household\n",
    "\n",
    "Population - block group population\n",
    "\n",
    "AveOccup - average number of household members\n",
    "\n",
    "Latitude - block group latitude\n",
    "\n",
    "Longitude - block group longitude\n",
    "\n",
    "## Target\n",
    "The target variable is the median house value for California districts, expressed in hundreds of thousands of dollars ($100,000)."
   ]
  },
  {
   "cell_type": "code",
   "execution_count": 54,
   "metadata": {
    "id": "ZAVjjtJ9PVED"
   },
   "outputs": [],
   "source": [
    "from sklearn.datasets import fetch_california_housing\n",
    "import pandas as pd"
   ]
  },
  {
   "cell_type": "code",
   "execution_count": 71,
   "metadata": {
    "id": "N12mwL2GPX48"
   },
   "outputs": [],
   "source": [
    "housing = fetch_california_housing(as_frame=True)\n",
    "df = pd.concat([housing.data, housing.target], axis=1)\n",
    "df_features = housing.data\n",
    "df_target = housing.target"
   ]
  },
  {
   "cell_type": "markdown",
   "metadata": {
    "id": "6tqvZqTtRgRe"
   },
   "source": [
    "1. Use any filter method to select the best features"
   ]
  },
  {
   "cell_type": "code",
   "execution_count": 84,
   "metadata": {
    "id": "K5DB6f6jRmUF"
   },
   "outputs": [
    {
     "data": {
      "text/plain": [
       "Index(['MedInc', 'HouseAge', 'AveRooms', 'Population', 'AveOccup', 'Latitude',\n",
       "       'Longitude'],\n",
       "      dtype='object')"
      ]
     },
     "execution_count": 84,
     "metadata": {},
     "output_type": "execute_result"
    }
   ],
   "source": [
    "from sklearn.feature_selection import VarianceThreshold\n",
    "\n",
    "selector = VarianceThreshold(threshold=0.5) # Variance threshold\n",
    "sel = selector.fit(df_features)\n",
    "sel_index = sel.get_support()\n",
    "df_housing_norm_vt = df_features.iloc[:, sel_index]\n",
    "\n",
    "df_housing_norm_vt.columns"
   ]
  },
  {
   "cell_type": "markdown",
   "metadata": {
    "id": "eZ5kAdM7RpDD"
   },
   "source": [
    "2. Use any wrapper method to select the best features"
   ]
  },
  {
   "cell_type": "code",
   "execution_count": 51,
   "metadata": {
    "id": "h1godUPeRpTF"
   },
   "outputs": [
    {
     "data": {
      "text/plain": [
       "Index(['MedInc', 'HouseAge', 'AveRooms', 'AveOccup', 'Latitude'], dtype='object')"
      ]
     },
     "execution_count": 51,
     "metadata": {},
     "output_type": "execute_result"
    }
   ],
   "source": [
    "from sklearn.ensemble import RandomForestRegressor\n",
    "from sklearn.feature_selection import RFE\n",
    "\n",
    "threshold = 5 # the number of most relevant features\n",
    "model_rf = RandomForestRegressor(n_estimators=500, random_state=0, max_depth=3)\n",
    "selector = RFE(model_rf, n_features_to_select=5, step=1)\n",
    "\n",
    "selector = selector.fit(df_features, df_target.values.ravel())\n",
    "selector_ind = selector.get_support()\n",
    "df_housing_rfe = df_features.iloc[:, selector_ind]\n",
    "\n",
    "df_housing_rfe.columns"
   ]
  },
  {
   "cell_type": "markdown",
   "metadata": {
    "id": "Kq82AZxvRvTe"
   },
   "source": [
    "3. Use any embedded methood to select the best features"
   ]
  },
  {
   "cell_type": "code",
   "execution_count": 85,
   "metadata": {
    "id": "-S8OQahTRyTM"
   },
   "outputs": [
    {
     "data": {
      "text/plain": [
       "Index(['MedInc', 'AveOccup'], dtype='object')"
      ]
     },
     "execution_count": 85,
     "metadata": {},
     "output_type": "execute_result"
    }
   ],
   "source": [
    "from sklearn.feature_selection import SelectFromModel\n",
    "\n",
    "model_rf = RandomForestRegressor(n_estimators=500, random_state=0, max_depth=3)\n",
    "model_rf.fit(df_features, df_target.values.ravel())\n",
    "\n",
    "sel_sfm = SelectFromModel(model_rf, prefit=True)\n",
    "sel_sfm_index = sel_sfm.get_support()\n",
    "df_housing_sfm = df_features.iloc[:, sel_sfm_index]\n",
    "\n",
    "df_housing_sfm.columns"
   ]
  },
  {
   "cell_type": "markdown",
   "metadata": {},
   "source": [
    "#Model Training"
   ]
  },
  {
   "cell_type": "code",
   "execution_count": 89,
   "metadata": {},
   "outputs": [],
   "source": [
    "from sklearn.model_selection import train_test_split\n",
    "\n",
    "x = df.drop([\"MedHouseVal\"],axis=1)\n",
    "y = df[\"MedHouseVal\"]\n",
    "\n",
    "x_fm = df_housing_norm_vt\n",
    "y_fm = df[\"MedHouseVal\"]\n",
    "\n",
    "x_wm = df_housing_rfe\n",
    "y_wm = df[\"MedHouseVal\"]\n",
    "\n",
    "x_em = df_housing_sfm\n",
    "y_em = df[\"MedHouseVal\"]\n",
    "\n",
    "x_train,x_test,y_train,y_test = train_test_split(x,y,random_state=1,test_size=0.3)\n",
    "x_train1,x_test1,y_train1,y_test1 = train_test_split(x_fm,y_fm,random_state=1,test_size=0.3)\n",
    "x_train2,x_test2,y_train2,y_test2 = train_test_split(x_wm,y_wm,random_state=1,test_size=0.3)\n",
    "x_train3,x_test3,y_train3,y_test3 = train_test_split(x_em,y_em,random_state=1,test_size=0.3)"
   ]
  },
  {
   "cell_type": "code",
   "execution_count": null,
   "metadata": {},
   "outputs": [
    {
     "name": "stdout",
     "output_type": "stream",
     "text": [
      "All Features RMSE: 0.5156447470906563\n",
      "Filter Method RMSE: 0.5093031148401722\n",
      "Wrapper Method RMSE: 0.6130468216560241\n",
      "Embedded Method RMSE: 0.7921066437138734\n"
     ]
    }
   ],
   "source": [
    "from sklearn.ensemble import RandomForestRegressor\n",
    "from sklearn.metrics import mean_squared_error\n",
    "import numpy as np\n",
    "\n",
    "rfr = RandomForestRegressor(n_estimators=50,random_state=1)\n",
    "\n",
    "rfr.fit(x_train,y_train)\n",
    "y_pred = rfr.predict(x_test)\n",
    "rmse = np.sqrt(mean_squared_error(y_test, y_pred))\n",
    "print(f\"All Features RMSE: {rmse}\")\n",
    "\n",
    "rfr.fit(x_train1,y_train1)\n",
    "y_pred1 = rfr.predict(x_test1)\n",
    "rmse1 = np.sqrt(mean_squared_error(y_test1, y_pred1))\n",
    "print(f\"Filter Method RMSE: {rmse1}\")\n",
    "\n",
    "rfr.fit(x_train2,y_train2)\n",
    "y_pred2 = rfr.predict(x_test2)\n",
    "rmse2 = np.sqrt(mean_squared_error(y_test2, y_pred2))\n",
    "print(f\"Wrapper Method RMSE: {rmse2}\")\n",
    "\n",
    "rfr.fit(x_train3,y_train3)\n",
    "y_pred3 = rfr.predict(x_test3)\n",
    "rmse3 = np.sqrt(mean_squared_error(y_test3, y_pred3))\n",
    "print(f\"Embedded Method RMSE: {rmse3}\")"
   ]
  }
 ],
 "metadata": {
  "colab": {
   "authorship_tag": "ABX9TyNAIM/nwV9RiHawbkzANQTV",
   "include_colab_link": true,
   "provenance": []
  },
  "kernelspec": {
   "display_name": "COM222",
   "language": "python",
   "name": "python3"
  },
  "language_info": {
   "codemirror_mode": {
    "name": "ipython",
    "version": 3
   },
   "file_extension": ".py",
   "mimetype": "text/x-python",
   "name": "python",
   "nbconvert_exporter": "python",
   "pygments_lexer": "ipython3",
   "version": "3.11.9"
  }
 },
 "nbformat": 4,
 "nbformat_minor": 0
}
